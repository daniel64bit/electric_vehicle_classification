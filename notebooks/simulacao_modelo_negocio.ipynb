{
 "cells": [
  {
   "cell_type": "markdown",
   "metadata": {},
   "source": [
    "# Protótipo do modelo de negócio"
   ]
  },
  {
   "cell_type": "code",
   "execution_count": 19,
   "metadata": {},
   "outputs": [],
   "source": [
    "# Importando biblioteca\n",
    "import pickle\n",
    "import pandas as pd\n",
    "\n",
    "# Carregando o modelo\n",
    "modelo_cluster = pickle.load(open('../data/06_models/bev_clustering.pickle', 'rb'))\n",
    "modelo_regressor = pickle.load(open('../data/06_models/resale_price_regressor.pickle', 'rb'))\n",
    "\n",
    "# Dados de entrada\n",
    "idade_carro = [4] # Anos\n",
    "mes_venda = [11] # Novembro\n",
    "autonomia = [250] # Milhas\n",
    "fabricante = ['TESLA']\n",
    "\n",
    "input_data = pd.DataFrame({\n",
    "    'CAR_AGE': idade_carro,\n",
    "    'SALE_MONTH': mes_venda,\n",
    "    'ELECTRIC_RANGE': autonomia,\n",
    "    'MAKE': fabricante\n",
    "})\n",
    "\n",
    "input_data['CLUSTER'] = modelo_cluster.predict(input_data)\n",
    "input_data['PREVISAO'] = (modelo.predict(input_data)/5).astype('int')*5\n",
    "\n",
    "input_data['PREVISAO']\n",
    "\n",
    "# Output\n",
    "0    55455\n",
    "Name: PREVISAO, dtype: int32"
   ]
  }
 ],
 "metadata": {
  "kernelspec": {
   "display_name": "mackenzie",
   "language": "python",
   "name": "python3"
  },
  "language_info": {
   "codemirror_mode": {
    "name": "ipython",
    "version": 3
   },
   "file_extension": ".py",
   "mimetype": "text/x-python",
   "name": "python",
   "nbconvert_exporter": "python",
   "pygments_lexer": "ipython3",
   "version": "3.10.12"
  }
 },
 "nbformat": 4,
 "nbformat_minor": 2
}
